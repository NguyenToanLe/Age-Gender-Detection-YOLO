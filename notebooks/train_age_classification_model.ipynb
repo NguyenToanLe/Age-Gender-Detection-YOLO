{
 "cells": [
  {
   "metadata": {},
   "cell_type": "markdown",
   "source": "# Age Classification Model",
   "id": "49bedebca98dc3f9"
  },
  {
   "metadata": {},
   "cell_type": "markdown",
   "source": "## 1. Investigating dataset",
   "id": "6e7f00ae6117ea4"
  },
  {
   "metadata": {},
   "cell_type": "code",
   "source": [
    "from datasets import load_dataset\n",
    "import matplotlib.pyplot as plt\n",
    "import random"
   ],
   "id": "7bc7f93118a4c9d3",
   "outputs": [],
   "execution_count": null
  },
  {
   "metadata": {},
   "cell_type": "code",
   "source": "ds = load_dataset(\"prithivMLmods/Age-Classification-Set\")",
   "id": "fa7acd0711ab46f4",
   "outputs": [],
   "execution_count": null
  },
  {
   "metadata": {},
   "cell_type": "code",
   "source": [
    "labels = ds[\"train\"].features[\"label\"].names\n",
    "label_mapping = {i: v for i, v in enumerate(labels)}\n",
    "label_mapping"
   ],
   "id": "4798be5f4874f592",
   "outputs": [],
   "execution_count": null
  },
  {
   "metadata": {},
   "cell_type": "code",
   "source": [
    "ds = ds[\"train\"]\n",
    "print(ds)\n",
    "print(len(ds))"
   ],
   "id": "ce4dc513c7e221c0",
   "outputs": [],
   "execution_count": null
  },
  {
   "metadata": {},
   "cell_type": "code",
   "source": "ds[0][\"label\"], ds[0][\"image\"]",
   "id": "163aabcd20d50a5f",
   "outputs": [],
   "execution_count": null
  },
  {
   "metadata": {},
   "cell_type": "code",
   "source": [
    "def print_samples():\n",
    "    fig, axes = plt.subplots(nrows=2, ncols=3, figsize=(15, 7))\n",
    "    axes = axes.flatten()\n",
    "    ind = random.sample(range(len(ds)), 1)[0]\n",
    "    for ax in axes:\n",
    "        ax.imshow(ds[ind]['image'])\n",
    "        ax.set_title(label_mapping[ds[ind]['label']])\n",
    "        ind = random.sample(range(len(ds)), 1)[0]\n",
    "    plt.tight_layout()  # Adjust the layout to prevent titles and labels from overlapping\n",
    "    plt.show()\n",
    "print_samples()"
   ],
   "id": "4d730d25dc440787",
   "outputs": [],
   "execution_count": null
  },
  {
   "metadata": {},
   "cell_type": "markdown",
   "source": "### Structure dataset folder for YOLO",
   "id": "29eecd7967fc11ab"
  },
  {
   "metadata": {},
   "cell_type": "markdown",
   "source": "Split data into \"train\", \"eval\", \"test\"",
   "id": "c29d47b3a35dcb5a"
  },
  {
   "metadata": {},
   "cell_type": "markdown",
   "source": "First we need to find indices of each age group",
   "id": "47f70337e70929b9"
  },
  {
   "metadata": {},
   "cell_type": "code",
   "source": [
    "from tqdm import tqdm\n",
    "\n",
    "indices_by_class = {}\n",
    "\n",
    "for ind, sample in tqdm(enumerate(ds), total=len(ds), desc=\"Detecting indices of each age group\"):\n",
    "    cls = label_mapping[sample['label']]\n",
    "    if cls not in indices_by_class:\n",
    "        indices_by_class[cls] = []\n",
    "    indices_by_class[cls].append(ind)"
   ],
   "id": "4dd7a79968fd8d6",
   "outputs": [],
   "execution_count": null
  },
  {
   "metadata": {},
   "cell_type": "code",
   "source": [
    "for cls, indices in indices_by_class.items():\n",
    "    print(f\"{cls}:   {len(indices)} samples\")"
   ],
   "id": "26e3e3c24295096e",
   "outputs": [],
   "execution_count": null
  },
  {
   "metadata": {},
   "cell_type": "markdown",
   "source": "Because the number of `21-44` group is exceeded, we randomly reduce the number of these images to 4000 samples (comparable to the second most class in the dataset).",
   "id": "b97969f053af0c4b"
  },
  {
   "metadata": {},
   "cell_type": "code",
   "source": [
    "import random\n",
    "random.seed(42)\n",
    "\n",
    "num_sample_remain = 4000\n",
    "\n",
    "indices_by_class[\"21-44\"] = random.sample(indices_by_class[\"21-44\"], k=num_sample_remain)"
   ],
   "id": "c68dd70cd81d1ff2",
   "outputs": [],
   "execution_count": null
  },
  {
   "metadata": {},
   "cell_type": "code",
   "source": "len(indices_by_class[\"21-44\"])",
   "id": "e769d2571e888bc",
   "outputs": [],
   "execution_count": null
  },
  {
   "metadata": {},
   "cell_type": "code",
   "source": [
    "TRAIN_RATIO = 0.8\n",
    "VALIDATION_RATIO = 0.1\n",
    "\n",
    "ds_indices = {\n",
    "    'train': [],\n",
    "    'val': [],\n",
    "    'test': []\n",
    "}\n",
    "\n",
    "for age, indices in indices_by_class.items():\n",
    "    print(f\"Splitting dataset for {age} group...\")\n",
    "\n",
    "    num_train_samples = int(TRAIN_RATIO * len(indices))\n",
    "    num_validation_samples = int(VALIDATION_RATIO * len(indices))\n",
    "\n",
    "    random.shuffle(indices)\n",
    "    train_indices = indices[:num_train_samples]\n",
    "    validation_indices = indices[num_train_samples:num_train_samples + num_validation_samples]\n",
    "    test_indices = indices[num_train_samples + num_validation_samples:]\n",
    "\n",
    "    ds_indices[\"train\"] += train_indices\n",
    "    ds_indices[\"val\"] += validation_indices\n",
    "    ds_indices[\"test\"] += test_indices\n",
    "\n",
    "random.shuffle(ds_indices[\"train\"])\n",
    "random.shuffle(ds_indices[\"val\"])\n",
    "random.shuffle(ds_indices[\"test\"])"
   ],
   "id": "cd898f55f8fe2b00",
   "outputs": [],
   "execution_count": null
  },
  {
   "metadata": {},
   "cell_type": "code",
   "source": [
    "import os\n",
    "from tqdm import tqdm\n",
    "ROOT = \"D:\\Documents\\Personal Projects\\Age_Predictor\"\n",
    "DATA_ROOT = os.path.join(ROOT, \"dataset\", \"age\")\n",
    "os.makedirs(DATA_ROOT, exist_ok=True)\n",
    "\n",
    "for split in ['train', 'val', 'test']:\n",
    "    split_dir = os.path.join(DATA_ROOT, split)\n",
    "    os.makedirs(split_dir, exist_ok=True)\n",
    "\n",
    "    for idx in tqdm(ds_indices[split], total=len(ds_indices[split]), desc=f\"Processing {split} split...\"):\n",
    "        example = ds[idx]\n",
    "        pil_image = example['image']\n",
    "        label = label_mapping[example['label']]\n",
    "\n",
    "        # Create a directory for this class if it doesn't exist\n",
    "        class_dir = os.path.join(split_dir, label)\n",
    "        os.makedirs(class_dir, exist_ok=True)\n",
    "\n",
    "        # Save this image to the class directory\n",
    "        image_filename = f\"{idx}_{label}.png\"\n",
    "        image_path = os.path.join(class_dir, image_filename)\n",
    "        pil_image.save(image_path)"
   ],
   "id": "ab395962c474a497",
   "outputs": [],
   "execution_count": null
  },
  {
   "metadata": {},
   "cell_type": "markdown",
   "source": "# 2. Setup Model and Training Configurations",
   "id": "94822addb71826fb"
  },
  {
   "metadata": {},
   "cell_type": "code",
   "source": [
    "from ultralytics import YOLO\n",
    "\n",
    "# Load a model\n",
    "model = YOLO(\"yolo11n-cls.pt\")"
   ],
   "id": "72fd12606ce90294",
   "outputs": [],
   "execution_count": null
  },
  {
   "metadata": {},
   "cell_type": "code",
   "source": [
    "import os\n",
    "ROOT = \"D:\\Documents\\Personal Projects\\Age_Predictor\"\n",
    "DATA_ROOT = os.path.join(ROOT, \"dataset\", \"age\")"
   ],
   "id": "ab0b5eb9695b3dc4",
   "outputs": [],
   "execution_count": null
  },
  {
   "metadata": {},
   "cell_type": "code",
   "source": [
    "# Train the model\n",
    "results = model.train(\n",
    "    data=DATA_ROOT,\n",
    "    epochs=50,\n",
    "    imgsz=64,\n",
    "    device=0,\n",
    "    save=True,\n",
    "    save_period=1,                  # Save checkpoint every 10 epochs\n",
    "    project=\"Age_Detection\",     # Name of the project directory where training outputs are saved.\n",
    "    name=\"v1_epochs_10_imgsz_64\",   # Name of the training run.\n",
    "    dropout=0.1,\n",
    "    plots=True                      # Generates and saves plots of training, validation metrics, and prediction examples.\n",
    ")\n"
   ],
   "id": "58c0d660d6058344",
   "outputs": [],
   "execution_count": null
  },
  {
   "metadata": {},
   "cell_type": "markdown",
   "source": "### Test Performance",
   "id": "1dbb9edb4af0bd27"
  },
  {
   "metadata": {},
   "cell_type": "code",
   "source": [
    "model_path = r\"D:\\Documents\\Personal Projects\\Age_Predictor\\notebooks\\Age_Detection\\v1_epochs_10_imgsz_64\\weights\\best.pt\"\n",
    "model = YOLO(model_path)  # load a custom model"
   ],
   "id": "83e459f62cea24f7",
   "outputs": [],
   "execution_count": null
  },
  {
   "metadata": {},
   "cell_type": "code",
   "source": [
    "test_dir = os.path.join(DATA_ROOT, \"test\")\n",
    "ages = list(os.listdir(test_dir))\n",
    "\n",
    "results = {}\n",
    "for age in ages:\n",
    "    image_path = os.path.join(test_dir, age)\n",
    "    results[age] = model(image_path)"
   ],
   "id": "782205439db613df",
   "outputs": [],
   "execution_count": null
  },
  {
   "metadata": {},
   "cell_type": "code",
   "source": "results[\"0-12\"][0].names",
   "id": "8a67918d4be6808f",
   "outputs": [],
   "execution_count": null
  },
  {
   "metadata": {},
   "cell_type": "code",
   "source": [
    "from tqdm import tqdm\n",
    "\n",
    "corrects = {age: 0 for age in ages}\n",
    "total = {age: len(os.listdir(os.path.join(test_dir, age))) for age in ages}\n",
    "\n",
    "mapping = results[\"0-12\"][0].names\n",
    "\n",
    "for age in ages:\n",
    "    for result in tqdm(results[age], total=total[age], desc=f\"Calculating accuracy for {age} group...\"):\n",
    "        label_index = result.probs.top1\n",
    "        label = mapping[label_index]\n",
    "        if label == age:\n",
    "            corrects[age] += 1\n",
    "    print(f\"{age}: {corrects[age]}/{total[age]} - {corrects[age]/total[age] * 100:.2f}%\")\n"
   ],
   "id": "c3524a8dc5024372",
   "outputs": [],
   "execution_count": null
  }
 ],
 "metadata": {
  "kernelspec": {
   "display_name": "Python 3",
   "language": "python",
   "name": "python3"
  },
  "language_info": {
   "codemirror_mode": {
    "name": "ipython",
    "version": 2
   },
   "file_extension": ".py",
   "mimetype": "text/x-python",
   "name": "python",
   "nbconvert_exporter": "python",
   "pygments_lexer": "ipython2",
   "version": "2.7.6"
  }
 },
 "nbformat": 4,
 "nbformat_minor": 5
}
